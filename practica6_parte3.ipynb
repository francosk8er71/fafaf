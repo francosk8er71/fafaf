{
 "cells": [
  {
   "cell_type": "markdown",
   "metadata": {},
   "source": [
    "# Reducción de la dimensionalidad"
   ]
  },
  {
   "cell_type": "markdown",
   "metadata": {},
   "source": [
    "Vamos a ver cómo funciona el algoritmo de PCA utilizado un dataset muy conocido en el mundo del aprendizaje automático: el dataset de los dígitos. \n",
    "\n",
    "El dataset de los dígitos está compuesto por 1797 imágenes de dígitos manuscritos de tamaño 8x8. Este dataset se utiliza normalmente para algoritmos de clasificación (que veremos más adelante), pero también es un buen ejemplo para ver los algoritmos de clustering y de reducción de dimensionalidad. \n",
    "\n",
    "Cada dígito viene representado por un vector de 64 componentes que corresponden a los valores de cada pixel del dígito. Para más información sobre este dataset ver: http://scikit-learn.org/stable/auto_examples/datasets/plot_digits_last_image.html."
   ]
  },
  {
   "cell_type": "markdown",
   "metadata": {},
   "source": [
    "En esta parte de la práctica compararemos los resultados que se obtienen utilizando K-means y K-means combinado con PCA. Para ello empezamos cargando las librerías necesarias. "
   ]
  },
  {
   "cell_type": "code",
   "execution_count": 1,
   "metadata": {},
   "outputs": [],
   "source": [
    "from sklearn.cluster import KMeans\n",
    "from sklearn.datasets import load_digits\n",
    "from sklearn.decomposition import PCA\n",
    "from sklearn.preprocessing import scale\n",
    "import numpy as np"
   ]
  },
  {
   "cell_type": "markdown",
   "metadata": {},
   "source": [
    "Fijamos la semilla para obtener siempre los mismos resultados."
   ]
  },
  {
   "cell_type": "code",
   "execution_count": 2,
   "metadata": {},
   "outputs": [],
   "source": [
    "np.random.seed(42)"
   ]
  },
  {
   "cell_type": "markdown",
   "metadata": {},
   "source": [
    "Cargamos el dataset de los dígitos."
   ]
  },
  {
   "cell_type": "code",
   "execution_count": 3,
   "metadata": {},
   "outputs": [],
   "source": [
    "digits = load_digits()"
   ]
  },
  {
   "cell_type": "markdown",
   "metadata": {},
   "source": [
    "Obtenemos los descriptores de las instancias y estandarizamos (veremos en qué consiste este proceso más adelante) el dataset."
   ]
  },
  {
   "cell_type": "code",
   "execution_count": 4,
   "metadata": {},
   "outputs": [],
   "source": [
    "data = scale(digits.data)"
   ]
  },
  {
   "cell_type": "markdown",
   "metadata": {},
   "source": [
    "Mostramos el número de instancias del dataset y el número de descriptores."
   ]
  },
  {
   "cell_type": "code",
   "execution_count": 5,
   "metadata": {},
   "outputs": [
    {
     "name": "stdout",
     "output_type": "stream",
     "text": [
      "n_instancias 1797, n_descriptores 64\n"
     ]
    }
   ],
   "source": [
    "n_instancias, n_descriptores = data.shape\n",
    "print(\"n_instancias %d, n_descriptores %d\" % (n_instancias, n_descriptores))"
   ]
  },
  {
   "cell_type": "markdown",
   "metadata": {},
   "source": [
    "Construimos el estimador K-means. Tenemos 10 clusters ya que de antemano sabemos que hay 10 posibles dígitos y por lo tanto 10 posibles grupos."
   ]
  },
  {
   "cell_type": "code",
   "execution_count": 6,
   "metadata": {},
   "outputs": [],
   "source": [
    "estimator = KMeans(n_clusters=10)"
   ]
  },
  {
   "cell_type": "markdown",
   "metadata": {},
   "source": [
    "Realizamos la agrupación por clusters y mostramos el tiempo necesario"
   ]
  },
  {
   "cell_type": "code",
   "execution_count": 9,
   "metadata": {},
   "outputs": [
    {
     "name": "stdout",
     "output_type": "stream",
     "text": [
      "CPU times: user 657 ms, sys: 1.19 s, total: 1.84 s\n",
      "Wall time: 249 ms\n"
     ]
    },
    {
     "data": {
      "text/plain": [
       "KMeans(algorithm='auto', copy_x=True, init='k-means++', max_iter=300,\n",
       "    n_clusters=10, n_init=10, n_jobs=1, precompute_distances='auto',\n",
       "    random_state=None, tol=0.0001, verbose=0)"
      ]
     },
     "execution_count": 9,
     "metadata": {},
     "output_type": "execute_result"
    }
   ],
   "source": [
    "%%time \n",
    "estimator.fit(data)"
   ]
  },
  {
   "cell_type": "markdown",
   "metadata": {},
   "source": [
    "Ahora definimos una función que nos indica para cada clase la distribución en clusters. Notad que los clusters no están ordenados."
   ]
  },
  {
   "cell_type": "code",
   "execution_count": 10,
   "metadata": {},
   "outputs": [],
   "source": [
    "def valida_digits(etiquetas_esperadas, etiquetas_obtenidas):\n",
    "    for i in range(0,10):\n",
    "        res = np.zeros(10).astype(\"uint8\")\n",
    "        for j,etiqueta in enumerate(etiquetas_esperadas):\n",
    "            if(etiqueta==i):\n",
    "                res[etiquetas_obtenidas[j]]+=1\n",
    "        print(\"Dígito \" + str(i) + \": \")\n",
    "        print(res)"
   ]
  },
  {
   "cell_type": "markdown",
   "metadata": {},
   "source": [
    "Mostramos la distribución de los dígitos."
   ]
  },
  {
   "cell_type": "code",
   "execution_count": 11,
   "metadata": {},
   "outputs": [
    {
     "name": "stdout",
     "output_type": "stream",
     "text": [
      "Dígito 0: \n",
      "[  0   0   0   0   0 177   1   0   0   0]\n",
      "Dígito 1: \n",
      "[27  0  0  0  0  0  0 96  1 58]\n",
      "Dígito 2: \n",
      "[141   6   0   0   0   1   0  24   1   4]\n",
      "Dígito 3: \n",
      "[  1 160   8   0   0   0   0   7   7   0]\n",
      "Dígito 4: \n",
      "[  0   0   1   0   9   0 157   2   5   7]\n",
      "Dígito 5: \n",
      "[  0  51 121   3   0   0   2   3   1   1]\n",
      "Dígito 6: \n",
      "[  0   0   0 174   0   1   0   5   0   1]\n",
      "Dígito 7: \n",
      "[  0   0   2   0  18   0   0   1 155   3]\n",
      "Dígito 8: \n",
      "[  1  46   6   2   0   1   0 103   2  13]\n",
      "Dígito 9: \n",
      "[  0 145   3   0   3   0   0   2   8  19]\n"
     ]
    }
   ],
   "source": [
    "valida_digits(digits.target,estimator.labels_)"
   ]
  },
  {
   "cell_type": "markdown",
   "metadata": {},
   "source": [
    "Repetimos el proceso pero esta vez aplicando el algoritmo de PCA tomando 20 componentes principales"
   ]
  },
  {
   "cell_type": "code",
   "execution_count": 12,
   "metadata": {},
   "outputs": [
    {
     "name": "stdout",
     "output_type": "stream",
     "text": [
      "CPU times: user 304 ms, sys: 576 ms, total: 880 ms\n",
      "Wall time: 140 ms\n"
     ]
    }
   ],
   "source": [
    "%%time \n",
    "pca = PCA(n_components=20).fit(data)\n",
    "data_r = pca.transform(data)\n",
    "estimator = KMeans(n_clusters=10)\n",
    "estimator.fit(data_r)"
   ]
  },
  {
   "cell_type": "code",
   "execution_count": 13,
   "metadata": {},
   "outputs": [
    {
     "name": "stdout",
     "output_type": "stream",
     "text": [
      "Dígito 0: \n",
      "[  0   0   0   2   0 176   0   0   0   0]\n",
      "Dígito 1: \n",
      "[  0   0   1  51   0   0   0   0 103  27]\n",
      "Dígito 2: \n",
      "[ 1  4 78  4  3  0  0  0 34 53]\n",
      "Dígito 3: \n",
      "[  0 159   6   0   8   0   0   0   8   2]\n",
      "Dígito 4: \n",
      "[  2   0   1 158   9   0   0   9   2   0]\n",
      "Dígito 5: \n",
      "[ 0 77 70  6  5  0  3  0 21  0]\n",
      "Dígito 6: \n",
      "[  0   0   0   0   0   1 175   0   5   0]\n",
      "Dígito 7: \n",
      "[  0   0   8   1 152   0   0  17   1   0]\n",
      "Dígito 8: \n",
      "[  0  46  13   3   6   0   2   0 104   0]\n",
      "Dígito 9: \n",
      "[  0 143   1  13  12   0   0   5   3   3]\n"
     ]
    }
   ],
   "source": [
    "valida_digits(digits.target,estimator.labels_)"
   ]
  },
  {
   "cell_type": "markdown",
   "metadata": {},
   "source": [
    "***\n",
    "## Ejercicio \n",
    "Compara los resultados tanto en tiempo, como en distribución de los clusters utilizando PCA y sin utilizarlo."
   ]
  },
  {
   "cell_type": "code",
   "execution_count": 14,
   "metadata": {},
   "outputs": [
    {
     "ename": "SyntaxError",
     "evalue": "invalid syntax (<ipython-input-14-50e71a603faf>, line 1)",
     "output_type": "error",
     "traceback": [
      "\u001b[0;36m  File \u001b[0;32m\"<ipython-input-14-50e71a603faf>\"\u001b[0;36m, line \u001b[0;32m1\u001b[0m\n\u001b[0;31m    El algoritmo mezclado con PCA es el doble de rapido, ya que le cuesta practicamente la mitad del tiempo encontrar\u001b[0m\n\u001b[0m               ^\u001b[0m\n\u001b[0;31mSyntaxError\u001b[0m\u001b[0;31m:\u001b[0m invalid syntax\n"
     ]
    }
   ],
   "source": [
    "El algoritmo mezclado con PCA es el doble de rapido, ya que le cuesta practicamente la mitad del tiempo encontrar\n",
    "la solucion. 657ms vs 304ms. Los clusters estan mejor distribuidos al usar PCA."
   ]
  },
  {
   "cell_type": "markdown",
   "metadata": {},
   "source": [
    "***"
   ]
  },
  {
   "cell_type": "markdown",
   "metadata": {},
   "source": [
    "Utilizando los siguientes comandos podemos ver el porcentaje de varianza explicado por cada una de las componentes de PCA y el total."
   ]
  },
  {
   "cell_type": "code",
   "execution_count": 15,
   "metadata": {},
   "outputs": [
    {
     "name": "stdout",
     "output_type": "stream",
     "text": [
      "[0.12033916 0.09561054 0.08444415 0.06498408 0.04860155 0.04214119\n",
      " 0.03942083 0.0338938  0.02998219 0.02931995 0.02781802 0.02577048\n",
      " 0.02275248 0.02227139 0.02165177 0.01913843 0.01774826 0.01635135\n",
      " 0.01595408 0.014883  ]\n",
      "Varianza total: 79.30766781692223%\n"
     ]
    }
   ],
   "source": [
    "print(pca.explained_variance_ratio_)\n",
    "print(\"Varianza total: \" + str(100*np.sum(pca.explained_variance_ratio_))+ \"%\")"
   ]
  },
  {
   "cell_type": "markdown",
   "metadata": {},
   "source": [
    "La siguiente función nos genera un gráfico mostrando la varianza acumulada y la varianza individual que se obtiene al considerar distintos valores como componentes principales (en concreto va tomando valores entre 1 y el número de descriptores). Además esta función muestra la varianza total para cada caso."
   ]
  },
  {
   "cell_type": "code",
   "execution_count": 16,
   "metadata": {},
   "outputs": [],
   "source": [
    "from matplotlib import pyplot as plt\n",
    "\n",
    "def drawVarianza(data):\n",
    "    pcas = [PCA(n_components=k).fit(data) for k in range(1,len(data[0]))]\n",
    "    var = [pca.explained_variance_ratio_[-1] for pca in pcas]\n",
    "    varianzas = [np.sum(pca.explained_variance_ratio_) for pca in pcas]\n",
    "    for k in range(1,len(data[0])):\n",
    "        print(\"Varianza total (%s componentes): %s\" % (k,str(100 * varianzas[k-1])))\n",
    "    plt.clf()\n",
    "\n",
    "    plt.step(range(1,len(data[0])),varianzas,where='mid',label='varianza acumulada')\n",
    "    plt.bar(range(1,len(data[0])),var,alpha=0.5,align='center',label='varianza individual')\n",
    "    plt.xlabel('Componentes principales')\n",
    "    plt.ylabel('Ratio de varianza explicada')\n",
    "    plt.show()"
   ]
  },
  {
   "cell_type": "code",
   "execution_count": 32,
   "metadata": {},
   "outputs": [
    {
     "name": "stdout",
     "output_type": "stream",
     "text": [
      "Varianza total (1 componentes): 12.033916097424777\n",
      "Varianza total (2 componentes): 21.594970497734327\n",
      "Varianza total (3 componentes): 30.039385367114775\n",
      "Varianza total (4 componentes): 36.53779315849792\n",
      "Varianza total (5 componentes): 41.397946377911154\n",
      "Varianza total (6 componentes): 45.612065473059666\n",
      "Varianza total (7 componentes): 49.55206529544125\n",
      "Varianza total (8 componentes): 52.939839411572166\n",
      "Varianza total (9 componentes): 55.93852158696265\n",
      "Varianza total (10 componentes): 58.87131021562565\n",
      "Varianza total (11 componentes): 61.6472232961282\n",
      "Varianza total (12 componentes): 64.22814539706037\n",
      "Varianza total (13 componentes): 66.49711576873051\n",
      "Varianza total (14 componentes): 68.73119015902213\n",
      "Varianza total (15 componentes): 70.8989952671167\n",
      "Varianza total (16 componentes): 72.80882874347353\n",
      "Varianza total (17 componentes): 74.57216390825577\n",
      "Varianza total (18 componentes): 76.2229749770539\n",
      "Varianza total (19 componentes): 77.8216232926628\n",
      "Varianza total (20 componentes): 79.31000586965969\n",
      "Varianza total (21 componentes): 80.65869964622631\n",
      "Varianza total (22 componentes): 81.92292899245426\n",
      "Varianza total (23 componentes): 83.09305912180146\n",
      "Varianza total (24 componentes): 84.15092791903898\n",
      "Varianza total (25 componentes): 85.12587498129115\n",
      "Varianza total (26 componentes): 86.06761514134857\n",
      "Varianza total (27 componentes): 86.93780858436499\n",
      "Varianza total (28 componentes): 87.76725101482852\n",
      "Varianza total (29 componentes): 88.57076693180824\n",
      "Varianza total (30 componentes): 89.31623944543695\n",
      "Varianza total (31 componentes): 90.04045408295066\n",
      "Varianza total (32 componentes): 90.73359377914187\n",
      "Varianza total (33 componentes): 91.38784907009334\n",
      "Varianza total (34 componentes): 92.03070356972742\n",
      "Varianza total (35 componentes): 92.6231675005404\n",
      "Varianza total (36 componentes): 93.19415094888528\n",
      "Varianza total (37 componentes): 93.7159631671734\n",
      "Varianza total (38 componentes): 94.19930768900157\n",
      "Varianza total (39 componentes): 94.65284388040835\n",
      "Varianza total (40 componentes): 95.07648260886997\n",
      "Varianza total (41 componentes): 95.48214347262025\n",
      "Varianza total (42 componentes): 95.88003994915839\n",
      "Varianza total (43 componentes): 96.2326848342459\n",
      "Varianza total (44 componentes): 96.57734284019367\n",
      "Varianza total (45 componentes): 96.90381896566642\n",
      "Varianza total (46 componentes): 97.21609465052738\n",
      "Varianza total (47 componentes): 97.5055767468421\n",
      "Varianza total (48 componentes): 97.78219251920346\n",
      "Varianza total (49 componentes): 98.04135985506694\n",
      "Varianza total (50 componentes): 98.27590781051263\n",
      "Varianza total (51 componentes): 98.49417631792717\n",
      "Varianza total (52 componentes): 98.69777395245269\n",
      "Varianza total (53 componentes): 98.89328637847251\n",
      "Varianza total (54 componentes): 99.0766048776697\n",
      "Varianza total (55 componentes): 99.24455126516528\n",
      "Varianza total (56 componentes): 99.405787327422\n",
      "Varianza total (57 componentes): 99.5535500215281\n",
      "Varianza total (58 componentes): 99.68866843286519\n",
      "Varianza total (59 componentes): 99.81376917536248\n",
      "Varianza total (60 componentes): 99.91746490551819\n",
      "Varianza total (61 componentes): 100.0\n",
      "Varianza total (62 componentes): 100.0\n",
      "Varianza total (63 componentes): 100.0\n"
     ]
    },
    {
     "data": {
      "image/png": "[encoded data removed]",
      "text/plain": [
       "<Figure size 432x288 with 1 Axes>"
      ]
     },
     "metadata": {},
     "output_type": "display_data"
    }
   ],
   "source": [
    "drawVarianza(data)"
   ]
  },
  {
   "cell_type": "markdown",
   "metadata": {},
   "source": [
    "*** \n",
    "## Ejercicio\n",
    "En clase hemos visto que para elegir el número de componentes k, debemos tomar el menor k tal que la varianza total sea mayor que el 99%. En nuestro caso, ¿qué valor deberíamos tomar?"
   ]
  },
  {
   "cell_type": "code",
   "execution_count": null,
   "metadata": {
    "collapsed": true
   },
   "outputs": [],
   "source": [
    "54 es el valor segun la grafica de arriba"
   ]
  },
  {
   "cell_type": "markdown",
   "metadata": {},
   "source": [
    "***"
   ]
  },
  {
   "cell_type": "markdown",
   "metadata": {},
   "source": [
    "## Ejercicio adicional\n",
    "Recupera los ficheros de la práctica 5 y repite el análisis hecho para el dataset de los dígitos, pero esta vez utilizando el dataset iris.csv.\n"
   ]
  },
  {
   "cell_type": "code",
   "execution_count": null,
   "metadata": {
    "collapsed": true
   },
   "outputs": [],
   "source": []
  }
 ],
 "metadata": {
  "kernelspec": {
   "display_name": "Python 3",
   "language": "python",
   "name": "python3"
  },
  "language_info": {
   "codemirror_mode": {
    "name": "ipython",
    "version": 3
   },
   "file_extension": ".py",
   "mimetype": "text/x-python",
   "name": "python",
   "nbconvert_exporter": "python",
   "pygments_lexer": "ipython3",
   "version": "3.5.2"
  }
 },
 "nbformat": 4,
 "nbformat_minor": 2
}
